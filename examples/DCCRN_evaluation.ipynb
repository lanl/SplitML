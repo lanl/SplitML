{
 "cells": [
  {
   "cell_type": "code",
   "execution_count": 1,
   "metadata": {},
   "outputs": [],
   "source": [
    "import pandas as pd\n",
    "import numpy as np\n",
    "\n",
    "import matplotlib.pyplot as plt\n",
    "import seaborn as sns\n",
    "\n",
    "from IPython.display import display\n",
    "from pandas import DataFrame"
   ]
  },
  {
   "cell_type": "code",
   "execution_count": 6,
   "metadata": {},
   "outputs": [],
   "source": [
    "# Load saved DCCRN model info and test set results\n",
    "res = pd.read_csv('saved_models/dccrn_results.csv')"
   ]
  },
  {
   "cell_type": "code",
   "execution_count": 3,
   "metadata": {},
   "outputs": [
    {
     "data": {
      "image/png": "[encoded data removed]",
      "text/plain": [
       "<Figure size 432x288 with 1 Axes>"
      ]
     },
     "metadata": {
      "needs_background": "light"
     },
     "output_type": "display_data"
    }
   ],
   "source": [
    "# Distribution of test R-squared results across hyperparameters\n",
    "sns.boxplot(data=res.query('high_snr_data == False'), x='experiment', y='test_rsq')\n",
    "plt.xticks(rotation = 90)\n",
    "plt.show()"
   ]
  },
  {
   "cell_type": "code",
   "execution_count": 4,
   "metadata": {},
   "outputs": [
    {
     "data": {
      "text/html": [
       "<div>\n",
       "<style scoped>\n",
       "    .dataframe tbody tr th:only-of-type {\n",
       "        vertical-align: middle;\n",
       "    }\n",
       "\n",
       "    .dataframe tbody tr th {\n",
       "        vertical-align: top;\n",
       "    }\n",
       "\n",
       "    .dataframe thead th {\n",
       "        text-align: right;\n",
       "    }\n",
       "</style>\n",
       "<table border=\"1\" class=\"dataframe\">\n",
       "  <thead>\n",
       "    <tr style=\"text-align: right;\">\n",
       "      <th></th>\n",
       "      <th></th>\n",
       "      <th>experiment</th>\n",
       "      <th>test_rsq</th>\n",
       "      <th>batch_size</th>\n",
       "      <th>lr</th>\n",
       "      <th>batch_size</th>\n",
       "      <th>win</th>\n",
       "      <th>rnn_units</th>\n",
       "      <th>masking_mode</th>\n",
       "    </tr>\n",
       "  </thead>\n",
       "  <tbody>\n",
       "    <tr>\n",
       "      <th>0</th>\n",
       "      <th>118</th>\n",
       "      <td>fc0_low_snr_realnoise</td>\n",
       "      <td>0.874596</td>\n",
       "      <td>128</td>\n",
       "      <td>0.0003</td>\n",
       "      <td>128</td>\n",
       "      <td>64</td>\n",
       "      <td>128</td>\n",
       "      <td>E</td>\n",
       "    </tr>\n",
       "    <tr>\n",
       "      <th>1</th>\n",
       "      <th>208</th>\n",
       "      <td>fc0_low_snr_whitenoise</td>\n",
       "      <td>0.847294</td>\n",
       "      <td>128</td>\n",
       "      <td>0.0003</td>\n",
       "      <td>128</td>\n",
       "      <td>128</td>\n",
       "      <td>128</td>\n",
       "      <td>E</td>\n",
       "    </tr>\n",
       "    <tr>\n",
       "      <th>2</th>\n",
       "      <th>374</th>\n",
       "      <td>fc1600_low_snr_realnoise</td>\n",
       "      <td>0.823984</td>\n",
       "      <td>256</td>\n",
       "      <td>0.0003</td>\n",
       "      <td>256</td>\n",
       "      <td>64</td>\n",
       "      <td>128</td>\n",
       "      <td>R</td>\n",
       "    </tr>\n",
       "    <tr>\n",
       "      <th>3</th>\n",
       "      <th>320</th>\n",
       "      <td>fc1600_low_snr_whitenoise</td>\n",
       "      <td>0.795749</td>\n",
       "      <td>256</td>\n",
       "      <td>0.0003</td>\n",
       "      <td>256</td>\n",
       "      <td>32</td>\n",
       "      <td>128</td>\n",
       "      <td>R</td>\n",
       "    </tr>\n",
       "  </tbody>\n",
       "</table>\n",
       "</div>"
      ],
      "text/plain": [
       "                      experiment  test_rsq  batch_size      lr  batch_size  \\\n",
       "0 118      fc0_low_snr_realnoise  0.874596         128  0.0003         128   \n",
       "1 208     fc0_low_snr_whitenoise  0.847294         128  0.0003         128   \n",
       "2 374   fc1600_low_snr_realnoise  0.823984         256  0.0003         256   \n",
       "3 320  fc1600_low_snr_whitenoise  0.795749         256  0.0003         256   \n",
       "\n",
       "       win  rnn_units masking_mode  \n",
       "0 118   64        128            E  \n",
       "1 208  128        128            E  \n",
       "2 374   64        128            R  \n",
       "3 320   32        128            R  "
      ]
     },
     "metadata": {},
     "output_type": "display_data"
    }
   ],
   "source": [
    "# Best hyperparameters performance for low SNR\n",
    "best_rsq = res.query('high_snr_data == False').drop(labels='test_mse', axis=1).groupby(by=['experiment'],as_index=False).apply(DataFrame.nlargest, n=1, columns='test_rsq')\n",
    "\n",
    "\n",
    "cshow = ['experiment','test_rsq','batch_size','lr','batch_size','win','rnn_units','masking_mode']\n",
    "display(best_rsq[cshow])"
   ]
  }
 ],
 "metadata": {
  "kernelspec": {
   "display_name": "splitml",
   "language": "python",
   "name": "python3"
  },
  "language_info": {
   "codemirror_mode": {
    "name": "ipython",
    "version": 3
   },
   "file_extension": ".py",
   "mimetype": "text/x-python",
   "name": "python",
   "nbconvert_exporter": "python",
   "pygments_lexer": "ipython3",
   "version": "3.9.0"
  },
  "orig_nbformat": 4,
  "vscode": {
   "interpreter": {
    "hash": "debc18e14a2c62596676a0d5bf2665978451ea630f817763d909a231dfb8f228"
   }
  }
 },
 "nbformat": 4,
 "nbformat_minor": 2
}
